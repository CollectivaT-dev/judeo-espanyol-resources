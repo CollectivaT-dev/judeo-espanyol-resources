{
  "nbformat": 4,
  "nbformat_minor": 0,
  "metadata": {
    "colab": {
      "name": "scraping_dict.ipynb",
      "provenance": []
    },
    "kernelspec": {
      "name": "python3",
      "display_name": "Python 3"
    },
    "language_info": {
      "name": "python"
    }
  },
  "cells": [
    {
      "cell_type": "code",
      "source": [
        "file1 = open('sozlukmetnitamami.txt', 'r', encoding=\"utf-8\")\n",
        "Lines = file1.readlines()\n",
        "\n",
        "file2 = open('keys.txt', 'r', encoding=\"utf-8\")\n",
        "Lines2 = file2.readlines()\n",
        "\n",
        "keys = []\n",
        "\n",
        "for k in Lines2:\n",
        "  keys.append(k)\n",
        "\n",
        "count = 0\n",
        "# Strips the newline character\n",
        "text1=[]\n",
        "text2=[]\n",
        "final=[]\n",
        "for line in Lines:\n",
        "    if line.isspace() == True:\n",
        "      continue\n",
        "    entrada1= \" \".join(line[:42].lower().split())\n",
        "    entrada2= \" \".join(line[41:].lower().split())\n",
        "    lines1 = \" \".join(line.split())\n",
        "    lines1 = lines1.split(\" \")\n",
        "    text1.append(entrada1)\n",
        "    text2.append(entrada2)\n",
        "    if len(lines1) == 1:\n",
        "      if lines1[0].isdigit() == True:\n",
        "        final = final + text1 + text2\n",
        "        text1 = []\n",
        "        text2 = []\n"
      ],
      "metadata": {
        "id": "SP7GUEbuC2uz"
      },
      "execution_count": null,
      "outputs": []
    },
    {
      "cell_type": "code",
      "source": [
        "text = []\n",
        "symb = []\n",
        "for a in final:\n",
        "  if a == '' or a == '.......' or a.isdigit() == True:\n",
        "    continue\n",
        "  text.append(a)"
      ],
      "metadata": {
        "id": "tTei8nWsppJ8"
      },
      "execution_count": null,
      "outputs": []
    },
    {
      "cell_type": "code",
      "source": [
        "word_dic = []\n",
        "dic = []\n",
        "#t = [\"prep.\",\"pron.\",\"adj.\",\"art.\",\"n.f.\",\"n.m.\",\"v.\",\"adj.\"]\n",
        "cont_word = \"\"\n",
        "for b in text:\n",
        "  frase = \"\"\n",
        "  word = \"-\"\n",
        "  exp = \"x\"\n",
        "  cont = \"x\"\n",
        "  flag_1 = 0\n",
        "  for k in keys:\n",
        "    if k.replace(\"\\n\",\"\") in b:\n",
        "      frase = b\n",
        "      flag1 = frase.find(\"<\")\n",
        "      flag2 = frase.find(\"(\")\n",
        "\n",
        "      count_0 = frase.count(\"<\")\n",
        "      count_1 = frase.count(\"(\")\n",
        "      if count_0 > 0:\n",
        "        flag_1 = 1\n",
        "        cont_word = \"\"\n",
        "        word = frase[:flag1]\n",
        "        exp = frase[flag1:frase.find(\">\")+1]\n",
        "        cont_word = cont_word + frase[frase.find(\">\")+1:] + \" \"\n",
        "        '''\n",
        "        for f in t:\n",
        "          if f in frase:\n",
        "            leng = frase[frase.find(f)-1:].find(\")\")\n",
        "            tag = frase[frase.find(f)-1:frase.find(f)+leng]\n",
        "        break\n",
        "        '''\n",
        "        break\n",
        "      if count_1 > 0:\n",
        "        flag_1 = 1\n",
        "        c = frase[:flag2-1]\n",
        "        if c.count(\")\") == 1 and c.count(\"(\") == 0:\n",
        "          cont_word = cont_word + frase + \" \"\n",
        "        elif c.count(\"(\") == 1 and c.count(\")\") == 0:\n",
        "          cont_word = \"\"\n",
        "          cont_word = cont_word + frase[flag2:] + \" \"\n",
        "          word = frase[:flag2]\n",
        "        elif c.count(\"(\") == 0 and c.count(\")\") == 0:\n",
        "          cont_word = \"\"\n",
        "          cont_word = cont_word + frase[flag2:] + \" \"\n",
        "          word = frase[:flag2]\n",
        "        break\n",
        "  if flag_1 == 0:\n",
        "    cont_word = cont_word + b + \" \"\n",
        "  word_dic.append(word)\n",
        "  word_dic.append(exp)\n",
        "  word_dic.append(cont_word)\n"
      ],
      "metadata": {
        "id": "unO-ubQ2rNbD"
      },
      "execution_count": null,
      "outputs": []
    },
    {
      "cell_type": "code",
      "source": [
        "flag = 0\n",
        "dic = []\n",
        "word = \"\"\n",
        "reg = \"\"\n",
        "cont = \"\"\n",
        "wort = []\n",
        "for x in word_dic:\n",
        "  if flag == 0:\n",
        "    if x != '-':\n",
        "      word = x\n",
        "      wort.append(word)\n",
        "    flag = flag + 1\n",
        "  elif flag == 1:\n",
        "    reg = x\n",
        "    flag = flag + 1\n",
        "  elif flag == 2:\n",
        "    cont = x\n",
        "    flag = 0\n",
        "  if flag == 0:\n",
        "    p = {\"word\":word, \"origen\":reg, \"contenido\":cont}\n",
        "    dic.append(p)"
      ],
      "metadata": {
        "id": "RNbwtKQl4Fxk"
      },
      "execution_count": null,
      "outputs": []
    },
    {
      "cell_type": "code",
      "source": [
        "wort = list(set(wort))\n",
        "doc = []\n",
        "for a in wort:\n",
        "  word = \"\"\n",
        "  reg = \"\"\n",
        "  max = 0\n",
        "  for d in dic:\n",
        "    if a == d[\"word\"]:\n",
        "      word = d[\"word\"]\n",
        "      if d[\"origen\"] != \"x\":\n",
        "        reg = d[\"origen\"]\n",
        "      if len(d[\"contenido\"]) > max:\n",
        "        max = len(d[\"contenido\"])\n",
        "        cont = d[\"contenido\"]\n",
        "  p = {\"word\":word, \"origen\":reg, \"contenido\":cont}\n",
        "  doc.append(p)"
      ],
      "metadata": {
        "id": "O6-MIT_ZN69J"
      },
      "execution_count": null,
      "outputs": []
    },
    {
      "cell_type": "code",
      "source": [
        "import json\n",
        "data = {\"language\": \"Judeo Español\", \"diccionario\":\"JUDEO ESPANYOL - TÜRKÇE TÜRKÇE - JUDEO ESPANYOL DIKSYONARYO / SÖZLÜK\", \"word\":doc}\n",
        "with open('judeo_español.json', 'w') as outfile:\n",
        "  json.dump(data, outfile, ensure_ascii=False)"
      ],
      "metadata": {
        "id": "PQ0FGkO05vu5"
      },
      "execution_count": null,
      "outputs": []
    }
  ]
}